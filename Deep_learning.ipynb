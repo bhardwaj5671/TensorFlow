{
  "nbformat": 4,
  "nbformat_minor": 0,
  "metadata": {
    "colab": {
      "provenance": [],
      "authorship_tag": "ABX9TyNm6TwnB9bhhD0PHRebq76r",
      "include_colab_link": true
    },
    "kernelspec": {
      "name": "python3",
      "display_name": "Python 3"
    },
    "language_info": {
      "name": "python"
    }
  },
  "cells": [
    {
      "cell_type": "markdown",
      "metadata": {
        "id": "view-in-github",
        "colab_type": "text"
      },
      "source": [
        "<a href=\"https://colab.research.google.com/github/bhardwaj5671/TensorFlow/blob/main/Deep_learning.ipynb\" target=\"_parent\"><img src=\"https://colab.research.google.com/assets/colab-badge.svg\" alt=\"Open In Colab\"/></a>"
      ]
    },
    {
      "cell_type": "markdown",
      "source": [
        "<h1><center><b><font size='10'>[Code for DEEP LEARNING]</font></b></center></h1>\n",
        "   \n",
        "   This file is totaly preparied for deep learning code and understanding\n",
        "   <br>\n",
        "   for any querry contact at\n",
        "   <br>\n",
        "   <b>lovebhardwaj102@gmail.com</b>\n",
        "  \n",
        "   <a><href>https://www.linkedin.com/in/love-bhardwaj-8b8571228/</href></a>"
      ],
      "metadata": {
        "id": "6ff1D5uioI41"
      }
    },
    {
      "cell_type": "markdown",
      "source": [
        "<h1>Tensors</h1>\n",
        "tensor is aa multidimensonal array contains of pixel value\n",
        "<br>\n",
        "<img src=\"https://www.google.com/search?sca_esv=f73e6ca5e1446b75&sca_upv=1&rlz=1C1RXQR_enIN1028IN1028&sxsrf=ADLYWIK4BqgLNoktzhd4aiNfbALH4vBmjQ:1714912026405&q=pixel+value+of+image&uds=ADvngMg9jNQcehWDwmnlTKntTdHtY7BJ8BX_yXwbL26EQ3-NowwMYk7zF6OdIgboBKcWVzNliUL9TPkUadxcCrNe_i1JDSHqwVXt8PZsFAmyU04o-zutCd2Dj2C8AWyKmptuHZawt5Ah&udm=2&sa=X&ved=2ahUKEwj8oJ6RwfaFAxXayjgGHbcSBJ0QtKgLegQIDRAB&biw=1536&bih=730&dpr=1.25#vhid=T0Ii_dWMH8ym_M&vssid=mosaic\" >\n"
      ],
      "metadata": {
        "id": "ZD65ifrttsso"
      }
    },
    {
      "cell_type": "markdown",
      "source": [
        "<h2>Linear Regression</h2>\n",
        "<b>Wx+b=y</b>"
      ],
      "metadata": {
        "id": "VzCLXFVCo_jD"
      }
    },
    {
      "cell_type": "code",
      "execution_count": 2,
      "metadata": {
        "id": "reW6Lv3xn9hG"
      },
      "outputs": [],
      "source": [
        "import tensorflow as tf"
      ]
    },
    {
      "cell_type": "code",
      "source": [
        "tensor_zero_d = tf.constant(4)\n",
        "print(tensor_zero_d)"
      ],
      "metadata": {
        "colab": {
          "base_uri": "https://localhost:8080/"
        },
        "id": "VuobE-n9vcR-",
        "outputId": "df609347-dcac-4be8-e989-870413dae201"
      },
      "execution_count": 3,
      "outputs": [
        {
          "output_type": "stream",
          "name": "stdout",
          "text": [
            "tf.Tensor(4, shape=(), dtype=int32)\n"
          ]
        }
      ]
    },
    {
      "cell_type": "code",
      "source": [
        "tensor_1d = tf.constant([1,2,3,4])\n",
        "print(tensor_1d)"
      ],
      "metadata": {
        "colab": {
          "base_uri": "https://localhost:8080/"
        },
        "id": "maCvRXXbvchE",
        "outputId": "610672c0-70d9-4de5-a5e3-7feb172d08ca"
      },
      "execution_count": 4,
      "outputs": [
        {
          "output_type": "stream",
          "name": "stdout",
          "text": [
            "tf.Tensor([1 2 3 4], shape=(4,), dtype=int32)\n"
          ]
        }
      ]
    },
    {
      "cell_type": "code",
      "source": [
        "tf.concat([tensor_1d, tensor_1d, tensor_1d], axis=0)"
      ],
      "metadata": {
        "colab": {
          "base_uri": "https://localhost:8080/"
        },
        "id": "qQ9lvucMLyia",
        "outputId": "04483b4f-b528-4779-aa6f-abad31bab30d"
      },
      "execution_count": 5,
      "outputs": [
        {
          "output_type": "execute_result",
          "data": {
            "text/plain": [
              "<tf.Tensor: shape=(12,), dtype=int32, numpy=array([1, 2, 3, 4, 1, 2, 3, 4, 1, 2, 3, 4], dtype=int32)>"
            ]
          },
          "metadata": {},
          "execution_count": 5
        }
      ]
    },
    {
      "cell_type": "code",
      "source": [
        "tensor_1d = tf.constant([[1,2,3,4.5]])\n",
        "print(tensor_1d)"
      ],
      "metadata": {
        "colab": {
          "base_uri": "https://localhost:8080/"
        },
        "id": "9XUsV9Dmv-sP",
        "outputId": "6f9e76e2-13b6-4b72-d4ad-8a97ad1bf296"
      },
      "execution_count": 6,
      "outputs": [
        {
          "output_type": "stream",
          "name": "stdout",
          "text": [
            "tf.Tensor([[1.  2.  3.  4.5]], shape=(1, 4), dtype=float32)\n"
          ]
        }
      ]
    },
    {
      "cell_type": "code",
      "source": [
        "tensor_2d = tf.constant([[1,2,3],[4,5,6]])\n",
        "print(tensor_2d)"
      ],
      "metadata": {
        "colab": {
          "base_uri": "https://localhost:8080/"
        },
        "id": "UnTMQF3hwJbn",
        "outputId": "bb8cf6a8-ed5a-4367-874a-f06e5746065a"
      },
      "execution_count": 7,
      "outputs": [
        {
          "output_type": "stream",
          "name": "stdout",
          "text": [
            "tf.Tensor(\n",
            "[[1 2 3]\n",
            " [4 5 6]], shape=(2, 3), dtype=int32)\n"
          ]
        }
      ]
    },
    {
      "cell_type": "code",
      "source": [
        "tensor_3d = tf.constant([[[1,2,3],[4,5,6]],[[7,8,9],[10,11,12]]])\n",
        "print(tensor_3d)"
      ],
      "metadata": {
        "colab": {
          "base_uri": "https://localhost:8080/"
        },
        "id": "2s3DzWTBwbTL",
        "outputId": "dab77dba-19a6-4994-f4f1-b0d41d7fd409"
      },
      "execution_count": 8,
      "outputs": [
        {
          "output_type": "stream",
          "name": "stdout",
          "text": [
            "tf.Tensor(\n",
            "[[[ 1  2  3]\n",
            "  [ 4  5  6]]\n",
            "\n",
            " [[ 7  8  9]\n",
            "  [10 11 12]]], shape=(2, 2, 3), dtype=int32)\n"
          ]
        }
      ]
    },
    {
      "cell_type": "code",
      "source": [
        "print(tensor_1d.shape)\n",
        "print(tensor_2d.shape)\n",
        "print(tensor_3d.shape)\n",
        "print(tensor_zero_d.shape)"
      ],
      "metadata": {
        "colab": {
          "base_uri": "https://localhost:8080/"
        },
        "id": "W8_PAL4mwlW7",
        "outputId": "cb7bfd09-ca1e-4139-ba90-e678b2da840f"
      },
      "execution_count": 9,
      "outputs": [
        {
          "output_type": "stream",
          "name": "stdout",
          "text": [
            "(1, 4)\n",
            "(2, 3)\n",
            "(2, 2, 3)\n",
            "()\n"
          ]
        }
      ]
    },
    {
      "cell_type": "code",
      "source": [
        "print(tensor_3d.ndim)\n",
        "print(tensor_2d.ndim)\n",
        "print(tensor_1d.ndim)\n",
        "print(tensor_zero_d.ndim)\n"
      ],
      "metadata": {
        "colab": {
          "base_uri": "https://localhost:8080/"
        },
        "id": "wbsuvlgbxWd8",
        "outputId": "cbff6637-ff86-4551-c87d-2ec3b106d8c3"
      },
      "execution_count": 10,
      "outputs": [
        {
          "output_type": "stream",
          "name": "stdout",
          "text": [
            "3\n",
            "2\n",
            "2\n",
            "0\n"
          ]
        }
      ]
    },
    {
      "cell_type": "code",
      "source": [
        "tensor_4d = tf.random.normal([1, 2, 3, 4])\n",
        "print(tensor_4d)"
      ],
      "metadata": {
        "colab": {
          "base_uri": "https://localhost:8080/"
        },
        "id": "cFiVSmOmx6GQ",
        "outputId": "accda13c-444a-43d6-f966-02dcee8d8a52"
      },
      "execution_count": 11,
      "outputs": [
        {
          "output_type": "stream",
          "name": "stdout",
          "text": [
            "tf.Tensor(\n",
            "[[[[ 1.6711544  -0.1233535   1.9528949   0.5110322 ]\n",
            "   [-0.00854905 -0.42311084 -0.35254905  0.54750055]\n",
            "   [-1.3036194   0.0682677   1.2068537  -0.51194   ]]\n",
            "\n",
            "  [[ 0.39205906  1.0698516   0.847624   -0.9058326 ]\n",
            "   [ 1.5893381   0.46084392  0.2405373  -1.5412644 ]\n",
            "   [-0.17345487 -0.9587726  -0.8271864  -0.7562383 ]]]], shape=(1, 2, 3, 4), dtype=float32)\n"
          ]
        }
      ]
    },
    {
      "cell_type": "code",
      "source": [
        "tensor_4d = tf.constant([\n",
        "    [[[1,2,3],[4,5,6]],[[7,8,9],[10,11,12]]],\n",
        "    [[[1,2,3],[4,5,6]],[[7,8,9],[10,11,12]]],\n",
        "    [[[1,2,3],[4,5,6]],[[7,8,9],[10,11,12]]],\n",
        "])\n",
        "print(tensor_4d)"
      ],
      "metadata": {
        "colab": {
          "base_uri": "https://localhost:8080/"
        },
        "id": "AZ2YUaZcyPYz",
        "outputId": "67e8c514-1780-4509-836b-be3e7126fd6f"
      },
      "execution_count": 12,
      "outputs": [
        {
          "output_type": "stream",
          "name": "stdout",
          "text": [
            "tf.Tensor(\n",
            "[[[[ 1  2  3]\n",
            "   [ 4  5  6]]\n",
            "\n",
            "  [[ 7  8  9]\n",
            "   [10 11 12]]]\n",
            "\n",
            "\n",
            " [[[ 1  2  3]\n",
            "   [ 4  5  6]]\n",
            "\n",
            "  [[ 7  8  9]\n",
            "   [10 11 12]]]\n",
            "\n",
            "\n",
            " [[[ 1  2  3]\n",
            "   [ 4  5  6]]\n",
            "\n",
            "  [[ 7  8  9]\n",
            "   [10 11 12]]]], shape=(3, 2, 2, 3), dtype=int32)\n"
          ]
        }
      ]
    },
    {
      "cell_type": "code",
      "source": [
        "tensor_5d = tf.random.normal([1, 2, 3, 4, 5])\n",
        "print(tensor_5d)"
      ],
      "metadata": {
        "colab": {
          "base_uri": "https://localhost:8080/"
        },
        "id": "oZfYjoZ1yq9w",
        "outputId": "f47f2c6c-4ab8-4268-92ea-737270c4d660"
      },
      "execution_count": 13,
      "outputs": [
        {
          "output_type": "stream",
          "name": "stdout",
          "text": [
            "tf.Tensor(\n",
            "[[[[[ 1.7847028   0.42238912 -0.60346276 -1.8148702  -0.27201396]\n",
            "    [-0.8573643   1.3751552   0.36236882  0.46133393 -1.9734577 ]\n",
            "    [-1.6453149   1.122595    0.40322012 -0.6915262   1.6619526 ]\n",
            "    [ 0.02633151 -1.1388048   0.17785387  0.63333434 -0.33484015]]\n",
            "\n",
            "   [[-1.1312944  -0.36605796  1.8547887   0.6229491   0.97030413]\n",
            "    [-0.3452296   1.61602     0.6493618   1.2754587  -1.9632767 ]\n",
            "    [ 1.9357692  -1.116346    1.045713   -0.3332464  -0.21895848]\n",
            "    [-0.3355349   0.29546472  1.1745249   1.1094135  -0.734426  ]]\n",
            "\n",
            "   [[-0.46540853  0.04114848  0.31144318  0.6298978   0.4549791 ]\n",
            "    [ 0.6762465   0.1025177  -1.8802174   0.8662263   0.58503693]\n",
            "    [ 0.38762587 -0.6712989  -0.5528139  -0.8755139   0.04158873]\n",
            "    [ 0.75480765 -0.76171243  0.38565478  1.4465472   1.5622046 ]]]\n",
            "\n",
            "\n",
            "  [[[-1.8112558  -0.2656924   0.14203578  1.5672494   0.19669059]\n",
            "    [-0.64725184 -0.18764478 -0.9696968   1.0585561   2.6175067 ]\n",
            "    [-0.14165293  0.54919416  0.25837162  1.6478517  -1.584431  ]\n",
            "    [-0.28591058  1.21325    -0.58279854 -0.66978496 -0.41250464]]\n",
            "\n",
            "   [[-0.1987681  -1.5459069  -0.29015282 -0.05528554  0.22829814]\n",
            "    [-0.8139623  -1.5469044   0.14746705  0.45560208  1.6809278 ]\n",
            "    [ 0.19772357  1.6987787  -1.4791728   0.6287652  -0.86079484]\n",
            "    [ 0.54677147  0.11615763  0.22736165 -1.2236779   2.4919155 ]]\n",
            "\n",
            "   [[ 2.6224258  -1.1487265   1.2969167   0.5450199  -0.79404485]\n",
            "    [-1.5343037  -1.1090668  -0.19066262 -0.8920812  -0.3160011 ]\n",
            "    [ 2.0070412  -0.19807701  0.23886006 -0.21861744 -0.57322234]\n",
            "    [ 1.0457411   1.9417827   2.1111777   0.32317764  0.15945174]]]]], shape=(1, 2, 3, 4, 5), dtype=float32)\n"
          ]
        }
      ]
    },
    {
      "cell_type": "markdown",
      "source": [
        "<b>simply matheod of construction of multi dimensonal array in **Tensorflow** is like formula</b>\n",
        "<br>\n",
        "2D = 1D X 1D\n",
        "<br>\n",
        "3D = 2D X 2D\n",
        "<br>\n",
        "4D = 3D X 3D\n",
        "<br>\n",
        "Thus the dimensions of array continues for multi dimensonal\n",
        "<br>\n",
        " <br>![4-axis_block.png](data:image/png;base64,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)"
      ],
      "metadata": {
        "id": "1JmnmdbdzMz-"
      }
    },
    {
      "cell_type": "code",
      "source": [
        "tensor_2d = tf.random.normal([2, 3],dtype=tf.float32)\n",
        "print(tensor_2d)"
      ],
      "metadata": {
        "colab": {
          "base_uri": "https://localhost:8080/"
        },
        "id": "m4-fG3sQ0ClO",
        "outputId": "b7631e94-1d71-45ce-dc21-134782640ee6"
      },
      "execution_count": 14,
      "outputs": [
        {
          "output_type": "stream",
          "name": "stdout",
          "text": [
            "tf.Tensor(\n",
            "[[-0.0948867  -0.3422749  -1.61851   ]\n",
            " [ 1.0009412  -0.41066128 -0.19728889]], shape=(2, 3), dtype=float32)\n"
          ]
        }
      ]
    },
    {
      "cell_type": "code",
      "source": [
        "eye_tensor = tf.eye(   #eye_tensor for find digonal matrics\n",
        "    num_rows=3,        #no of row\n",
        "    num_columns=None,  #no of column\n",
        "    batch_shape=None,  #no of batch\n",
        "    dtype=tf.float32,  #data type\n",
        "    name = None,       #name\n",
        ")\n",
        "print(eye_tensor)\n",
        "print(eye_tensor.shape)\n",
        "print(4*eye_tensor)"
      ],
      "metadata": {
        "colab": {
          "base_uri": "https://localhost:8080/"
        },
        "id": "6c88BQxa48yK",
        "outputId": "33fe1527-4eee-4297-a334-d24f1e70d826"
      },
      "execution_count": 15,
      "outputs": [
        {
          "output_type": "stream",
          "name": "stdout",
          "text": [
            "tf.Tensor(\n",
            "[[1. 0. 0.]\n",
            " [0. 1. 0.]\n",
            " [0. 0. 1.]], shape=(3, 3), dtype=float32)\n",
            "(3, 3)\n",
            "tf.Tensor(\n",
            "[[4. 0. 0.]\n",
            " [0. 4. 0.]\n",
            " [0. 0. 4.]], shape=(3, 3), dtype=float32)\n"
          ]
        }
      ]
    },
    {
      "cell_type": "code",
      "source": [
        "fill_tensor = tf.fill([1,3,4],5, name = None,)\n",
        "print(fill_tensor)"
      ],
      "metadata": {
        "colab": {
          "base_uri": "https://localhost:8080/"
        },
        "id": "g0BYcQmm5-rO",
        "outputId": "4b3527a7-a395-405b-8aa1-4a5bfe05a415"
      },
      "execution_count": 16,
      "outputs": [
        {
          "output_type": "stream",
          "name": "stdout",
          "text": [
            "tf.Tensor(\n",
            "[[[5 5 5 5]\n",
            "  [5 5 5 5]\n",
            "  [5 5 5 5]]], shape=(1, 3, 4), dtype=int32)\n"
          ]
        }
      ]
    },
    {
      "cell_type": "markdown",
      "source": [
        "#Indexed"
      ],
      "metadata": {
        "id": "OT8nVO7t1DGX"
      }
    },
    {
      "cell_type": "code",
      "source": [
        "tensor_indexed = tf.constant([1, 2, 3, 4, 5, 6])\n",
        "print(tensor_indexed[0])"
      ],
      "metadata": {
        "colab": {
          "base_uri": "https://localhost:8080/"
        },
        "id": "oZSyOYTe1SAS",
        "outputId": "6d62b97f-c566-4545-ce5d-53cbddf7baf5"
      },
      "execution_count": 18,
      "outputs": [
        {
          "output_type": "stream",
          "name": "stdout",
          "text": [
            "tf.Tensor(1, shape=(), dtype=int32)\n"
          ]
        }
      ]
    },
    {
      "cell_type": "markdown",
      "source": [
        "Tensors often contain floats and ints, but have many other types, including:\n",
        "\n",
        "# complex numbers\n",
        "<h3>STRING</h3>\n",
        "The base tf.Tensor class requires tensors to be \"rectangular\"---that is, along each axis, every element is the same size. However, there are specialized types of tensors that can handle different shapes:\n",
        "\n",
        "1.  Ragged tensors (see RaggedTensor below)\n",
        "2.  Sparse tensors (see SparseTensor below)\n",
        "\n",
        "\n",
        "You can do basic math on tensors, including addition, element-wise multiplication, and matrix multiplication."
      ],
      "metadata": {
        "id": "dEzn14VYSO9b"
      }
    },
    {
      "cell_type": "markdown",
      "source": [],
      "metadata": {
        "id": "SqY2V_3S1Q_I"
      }
    },
    {
      "cell_type": "code",
      "source": [
        "a = tf.constant([[1, 2],\n",
        "                 [3, 4]])\n",
        "b = tf.constant([[1, 1],\n",
        "                 [1, 1]])\n",
        "\n",
        "print(tf.add(a, b), \"\\n\")\n",
        "print(tf.multiply(a, b), \"\\n\")\n",
        "print(tf.matmul(a, b), \"\\n\")\n",
        "print(a + b, \"\\n\")\n",
        "print(a * b, \"\\n\")\n",
        "print(a @ b, \"\\n\")\n",
        "c = tf.constant([[4.0, 5.0], [10.0, 1.0]])\n",
        "\n",
        "\n",
        "print(tf.reduce_max(c))\n",
        "\n",
        "print(tf.math.argmax(c))\n",
        "\n",
        "print(tf.nn.softmax(c))\n",
        "\n",
        "print(tf.nn.sigmoid(c))"
      ],
      "metadata": {
        "colab": {
          "base_uri": "https://localhost:8080/"
        },
        "id": "AeUzYP-5SmYg",
        "outputId": "a86ca7e6-0df7-4cea-e4d2-1240b4b2bbf3"
      },
      "execution_count": 19,
      "outputs": [
        {
          "output_type": "stream",
          "name": "stdout",
          "text": [
            "tf.Tensor(\n",
            "[[2 3]\n",
            " [4 5]], shape=(2, 2), dtype=int32) \n",
            "\n",
            "tf.Tensor(\n",
            "[[1 2]\n",
            " [3 4]], shape=(2, 2), dtype=int32) \n",
            "\n",
            "tf.Tensor(\n",
            "[[3 3]\n",
            " [7 7]], shape=(2, 2), dtype=int32) \n",
            "\n",
            "tf.Tensor(\n",
            "[[2 3]\n",
            " [4 5]], shape=(2, 2), dtype=int32) \n",
            "\n",
            "tf.Tensor(\n",
            "[[1 2]\n",
            " [3 4]], shape=(2, 2), dtype=int32) \n",
            "\n",
            "tf.Tensor(\n",
            "[[3 3]\n",
            " [7 7]], shape=(2, 2), dtype=int32) \n",
            "\n",
            "tf.Tensor(10.0, shape=(), dtype=float32)\n",
            "tf.Tensor([1 0], shape=(2,), dtype=int64)\n",
            "tf.Tensor(\n",
            "[[2.6894143e-01 7.3105860e-01]\n",
            " [9.9987662e-01 1.2339458e-04]], shape=(2, 2), dtype=float32)\n",
            "tf.Tensor(\n",
            "[[0.98201376 0.9933072 ]\n",
            " [0.9999546  0.7310586 ]], shape=(2, 2), dtype=float32)\n"
          ]
        }
      ]
    },
    {
      "cell_type": "markdown",
      "source": [
        "<h1>NORMAL</h1>\n"
      ],
      "metadata": {
        "id": "u_emeVTnITEm"
      }
    },
    {
      "cell_type": "code",
      "source": [
        "\n",
        "print(tf.random.uniform(\n",
        "    [5,],\n",
        "    minval=0,\n",
        "    maxval=100,\n",
        "    dtype=tf.int32,\n",
        "    seed=None,\n",
        "    name=None,\n",
        "))"
      ],
      "metadata": {
        "colab": {
          "base_uri": "https://localhost:8080/"
        },
        "id": "HpFZf3eDFiZU",
        "outputId": "77bbce53-00d9-466a-c144-54d294236847"
      },
      "execution_count": 20,
      "outputs": [
        {
          "output_type": "stream",
          "name": "stdout",
          "text": [
            "tf.Tensor([87 70 92 65 11], shape=(5,), dtype=int32)\n"
          ]
        }
      ]
    },
    {
      "cell_type": "code",
      "source": [
        "random_tensor = tf.random.normal(\n",
        "    [1,],\n",
        "    mean=5.0,\n",
        "    stddev=1.0,\n",
        "    dtype=tf.float32,\n",
        "    seed=None,\n",
        "    name=None,\n",
        ")\n",
        "print(random_tensor)"
      ],
      "metadata": {
        "colab": {
          "base_uri": "https://localhost:8080/"
        },
        "id": "JaG_bH5JJ1GP",
        "outputId": "a53e2fd4-5b28-474a-9d74-3e00d80e32f2"
      },
      "execution_count": 21,
      "outputs": [
        {
          "output_type": "stream",
          "name": "stdout",
          "text": [
            "tf.Tensor([5.6561584], shape=(1,), dtype=float32)\n"
          ]
        }
      ]
    },
    {
      "cell_type": "markdown",
      "source": [
        "<h1>Broadcasting</h1>\n",
        "Broadcasting is a concept borrowed from the equivalent feature in NumPy. In short, under certain conditions, smaller tensors are \"stretched\" automatically to fit larger tensors when running combined operations on them.\n",
        "\n",
        "The simplest and most common case is when you attempt to multiply or add a tensor to a scalar. In that case, the scalar is broadcast to be the same shape as the other argument."
      ],
      "metadata": {
        "id": "i4JW19uKbgiT"
      }
    },
    {
      "cell_type": "code",
      "source": [
        "x = tf.constant([1, 2, 3])\n",
        "\n",
        "y = tf.constant(2)\n",
        "z = tf.constant([2, 2, 2])\n",
        "\n",
        "print(tf.multiply(x, 2))\n",
        "print(x * y)\n",
        "print(x * z)"
      ],
      "metadata": {
        "colab": {
          "base_uri": "https://localhost:8080/"
        },
        "id": "elDz0Hxibx3Q",
        "outputId": "da62c9f8-3188-4adb-dcbd-aa334ebe0192"
      },
      "execution_count": 22,
      "outputs": [
        {
          "output_type": "stream",
          "name": "stdout",
          "text": [
            "tf.Tensor([2 4 6], shape=(3,), dtype=int32)\n",
            "tf.Tensor([2 4 6], shape=(3,), dtype=int32)\n",
            "tf.Tensor([2 4 6], shape=(3,), dtype=int32)\n"
          ]
        }
      ]
    },
    {
      "cell_type": "code",
      "source": [
        "# These are the same computations\n",
        "x = tf.reshape(x,[3,1])\n",
        "y = tf.range(1, 5)\n",
        "print(x, \"\\n\")\n",
        "print(y, \"\\n\")\n",
        "print(tf.multiply(x, y))"
      ],
      "metadata": {
        "colab": {
          "base_uri": "https://localhost:8080/"
        },
        "id": "bji-LbB2cBV-",
        "outputId": "a877e40f-71b2-4996-d8bb-bc36f2c52f6b"
      },
      "execution_count": 23,
      "outputs": [
        {
          "output_type": "stream",
          "name": "stdout",
          "text": [
            "tf.Tensor(\n",
            "[[1]\n",
            " [2]\n",
            " [3]], shape=(3, 1), dtype=int32) \n",
            "\n",
            "tf.Tensor([1 2 3 4], shape=(4,), dtype=int32) \n",
            "\n",
            "tf.Tensor(\n",
            "[[ 1  2  3  4]\n",
            " [ 2  4  6  8]\n",
            " [ 3  6  9 12]], shape=(3, 4), dtype=int32)\n"
          ]
        }
      ]
    },
    {
      "cell_type": "code",
      "source": [
        "x_stretch = tf.constant([[1, 1, 1, 1],\n",
        "                         [2, 2, 2, 2],\n",
        "                         [3, 3, 3, 3]])\n",
        "\n",
        "y_stretch = tf.constant([[1, 2, 3, 4],\n",
        "                         [1, 2, 3, 4],\n",
        "                         [1, 2, 3, 4]])\n",
        "\n",
        "print(x_stretch * y_stretch)  # Again, operator overloading"
      ],
      "metadata": {
        "colab": {
          "base_uri": "https://localhost:8080/"
        },
        "id": "NHvamiCFccSk",
        "outputId": "11b1af00-eaec-4eb2-da23-1153cecb9dff"
      },
      "execution_count": 24,
      "outputs": [
        {
          "output_type": "stream",
          "name": "stdout",
          "text": [
            "tf.Tensor(\n",
            "[[ 1  2  3  4]\n",
            " [ 2  4  6  8]\n",
            " [ 3  6  9 12]], shape=(3, 4), dtype=int32)\n"
          ]
        }
      ]
    },
    {
      "cell_type": "markdown",
      "source": [
        "Most of the time, broadcasting is both time and space efficient, as the broadcast operation never materializes the expanded tensors in memory.\n",
        "\n",
        "You see what broadcasting looks like using tf.broadcast_to."
      ],
      "metadata": {
        "id": "ZKXyW9tYcjXJ"
      }
    },
    {
      "cell_type": "code",
      "source": [
        "print(tf.broadcast_to(tf.constant([1, 2, 3]), [3, 3]))"
      ],
      "metadata": {
        "colab": {
          "base_uri": "https://localhost:8080/"
        },
        "id": "fTHO_8Xscd_v",
        "outputId": "42e0e528-72c8-4ab1-fbc2-01267df48ae5"
      },
      "execution_count": 25,
      "outputs": [
        {
          "output_type": "stream",
          "name": "stdout",
          "text": [
            "tf.Tensor(\n",
            "[[1 2 3]\n",
            " [1 2 3]\n",
            " [1 2 3]], shape=(3, 3), dtype=int32)\n"
          ]
        }
      ]
    },
    {
      "cell_type": "markdown",
      "source": [
        "tf.convert_to_tensor\n",
        "Most ops, like tf.matmul and tf.reshape take arguments of class tf.Tensor. However, you'll notice in the above case, Python objects shaped like tensors are accepted.\n",
        "\n",
        "Most, but not all, ops call convert_to_tensor on non-tensor arguments. There is a registry of conversions, and most object classes like NumPy's ndarray, TensorShape, Python lists, and tf.Variable will all convert automatically.\n",
        "\n",
        "See tf.register_tensor_conversion_function for more details, and if you have your own type you'd like to automatically convert to a tensor."
      ],
      "metadata": {
        "id": "PMNjZNQTc2DZ"
      }
    },
    {
      "cell_type": "markdown",
      "source": [
        "# Ragged Tensors\n",
        "A tensor with variable numbers of elements along some axis is called \"ragged\". Use tf.ragged.RaggedTensor for ragged data.\n",
        "\n",
        "For example, This cannot be represented as a regular tensor:"
      ],
      "metadata": {
        "id": "pv0-ehcAdJbZ"
      }
    },
    {
      "cell_type": "code",
      "source": [
        "sequences = [\n",
        "    [1, 2, 3],\n",
        "    [4, 5],\n",
        "    [6, 7, 8, 9]\n",
        "]\n",
        "\n",
        "# Convert the sequences to a ragged tensor\n",
        "ragged_tensor = tf.ragged.constant(sequences)\n",
        "\n",
        "print(ragged_tensor)"
      ],
      "metadata": {
        "colab": {
          "base_uri": "https://localhost:8080/"
        },
        "id": "0pZcy9AWcpR9",
        "outputId": "f7e32202-ee02-40e6-dc15-0ed5023eff83"
      },
      "execution_count": 26,
      "outputs": [
        {
          "output_type": "stream",
          "name": "stdout",
          "text": [
            "<tf.RaggedTensor [[1, 2, 3], [4, 5], [6, 7, 8, 9]]>\n"
          ]
        }
      ]
    },
    {
      "cell_type": "markdown",
      "source": [
        "# String tensors\n",
        "tf.string is a dtype, which is to say you can represent data as strings (variable-length byte arrays) in tensors.\n",
        "\n",
        "The strings are atomic and cannot be indexed the way Python strings are. The length of the string is not one of the axes of the tensor. See tf.strings for functions to manipulate them."
      ],
      "metadata": {
        "id": "I27VhE-aePwD"
      }
    },
    {
      "cell_type": "code",
      "source": [
        "scalar_string_tensor = tf.constant(\"Gray wolf\")\n",
        "print(scalar_string_tensor)"
      ],
      "metadata": {
        "colab": {
          "base_uri": "https://localhost:8080/"
        },
        "id": "3C-DNN06ePKL",
        "outputId": "6b60e51e-61c3-4b9a-c247-05ad651724de"
      },
      "execution_count": 27,
      "outputs": [
        {
          "output_type": "stream",
          "name": "stdout",
          "text": [
            "tf.Tensor(b'Gray wolf', shape=(), dtype=string)\n"
          ]
        }
      ]
    },
    {
      "cell_type": "code",
      "source": [
        "# If you have three string tensors of different lengths, this is OK.\n",
        "tensor_of_strings = tf.constant([\"Gray wolf\",\n",
        "                                 \"Quick brown fox\",\n",
        "                                 \"Lazy dog\"])\n",
        "# Note that the shape is (3,). The string length is not included.\n",
        "print(tensor_of_strings)"
      ],
      "metadata": {
        "colab": {
          "base_uri": "https://localhost:8080/"
        },
        "id": "HPJ9qo9iee-b",
        "outputId": "2ad04df5-4dd7-44ef-a417-8fbb1867904f"
      },
      "execution_count": 28,
      "outputs": [
        {
          "output_type": "stream",
          "name": "stdout",
          "text": [
            "tf.Tensor([b'Gray wolf' b'Quick brown fox' b'Lazy dog'], shape=(3,), dtype=string)\n"
          ]
        }
      ]
    },
    {
      "cell_type": "markdown",
      "source": [
        "# Sparse tensors\n",
        "Sometimes, your data is sparse, like a very wide embedding space. TensorFlow supports tf.sparse.SparseTensor and related operations to store sparse data efficiently."
      ],
      "metadata": {
        "id": "AK12RQN2e2rF"
      }
    },
    {
      "cell_type": "code",
      "source": [
        "# Sparse tensors store values by index in a memory-efficient manner\n",
        "sparse_tensor = tf.sparse.SparseTensor(indices=[[0, 0], [1, 2]],\n",
        "                                       values=[1, 2],\n",
        "                                       dense_shape=[3, 4])\n",
        "print(sparse_tensor, \"\\n\")\n",
        "\n",
        "# You can convert sparse tensors to dense\n",
        "print(tf.sparse.to_dense(sparse_tensor))"
      ],
      "metadata": {
        "colab": {
          "base_uri": "https://localhost:8080/"
        },
        "id": "wxChsXVSe_UF",
        "outputId": "b0501439-3318-4d30-d91b-766ad222ea77"
      },
      "execution_count": 29,
      "outputs": [
        {
          "output_type": "stream",
          "name": "stdout",
          "text": [
            "SparseTensor(indices=tf.Tensor(\n",
            "[[0 0]\n",
            " [1 2]], shape=(2, 2), dtype=int64), values=tf.Tensor([1 2], shape=(2,), dtype=int32), dense_shape=tf.Tensor([3 4], shape=(2,), dtype=int64)) \n",
            "\n",
            "tf.Tensor(\n",
            "[[1 0 0 0]\n",
            " [0 0 2 0]\n",
            " [0 0 0 0]], shape=(3, 4), dtype=int32)\n"
          ]
        }
      ]
    },
    {
      "cell_type": "markdown",
      "source": [
        "<h1>Create a variable</h1>\n",
        "To create a variable, provide an initial value. The tf.Variable will have the same dtype as the initialization value.\n",
        "<br>\n",
        "Most tensor operations work on variables as expected, although variables cannot be reshaped."
      ],
      "metadata": {
        "id": "TAZ60mWqjYfO"
      }
    },
    {
      "cell_type": "code",
      "source": [],
      "metadata": {
        "id": "vSsYBVlYqAtq"
      },
      "execution_count": null,
      "outputs": []
    },
    {
      "cell_type": "code",
      "source": [
        "my_tensor = tf.constant([[1.0, 2.0], [3.0, 4.0]])\n",
        "my_variable = tf.Variable(my_tensor)\n",
        "\n",
        "# Variables can be all kinds of types, just like tensors\n",
        "bool_variable = tf.Variable([False, False, False, True])\n",
        "complex_variable = tf.Variable([5 + 4j, 6 + 1j])\n",
        "\n",
        "print(\"Shape: \", my_variable.shape)\n",
        "print(\"DType: \", my_variable.dtype)\n",
        "print(\"As NumPy: \", my_variable.numpy())"
      ],
      "metadata": {
        "colab": {
          "base_uri": "https://localhost:8080/"
        },
        "id": "zLZaBd2ZjWx-",
        "outputId": "a2f2a28a-eef0-4d58-d3df-d1d26d1c2bd5"
      },
      "execution_count": 30,
      "outputs": [
        {
          "output_type": "stream",
          "name": "stdout",
          "text": [
            "Shape:  (2, 2)\n",
            "DType:  <dtype: 'float32'>\n",
            "As NumPy:  [[1. 2.]\n",
            " [3. 4.]]\n"
          ]
        }
      ]
    },
    {
      "cell_type": "code",
      "source": [
        "print(\"A variable:\", my_variable)\n",
        "print(\"\\nViewed as a tensor:\", tf.convert_to_tensor(my_variable))\n",
        "print(\"\\nIndex of highest value:\", tf.math.argmax(my_variable))\n",
        "\n",
        "# This creates a new tensor; it does not reshape the variable.\n",
        "print(\"\\nCopying and reshaping: \", tf.reshape(my_variable, [1,4]))"
      ],
      "metadata": {
        "colab": {
          "base_uri": "https://localhost:8080/"
        },
        "id": "VPdwIPhNiz1J",
        "outputId": "2913482e-c364-4bc4-af07-99c50696f68f"
      },
      "execution_count": 31,
      "outputs": [
        {
          "output_type": "stream",
          "name": "stdout",
          "text": [
            "A variable: <tf.Variable 'Variable:0' shape=(2, 2) dtype=float32, numpy=\n",
            "array([[1., 2.],\n",
            "       [3., 4.]], dtype=float32)>\n",
            "\n",
            "Viewed as a tensor: tf.Tensor(\n",
            "[[1. 2.]\n",
            " [3. 4.]], shape=(2, 2), dtype=float32)\n",
            "\n",
            "Index of highest value: tf.Tensor([1 1], shape=(2,), dtype=int64)\n",
            "\n",
            "Copying and reshaping:  tf.Tensor([[1. 2. 3. 4.]], shape=(1, 4), dtype=float32)\n"
          ]
        }
      ]
    },
    {
      "cell_type": "code",
      "source": [
        "a = tf.Variable([2.0, 3.0])\n",
        "# This will keep the same dtype, float32\n",
        "a.assign([1, 2])\n",
        "# Not allowed as it resizes the variable:\n",
        "try:\n",
        "  a.assign([1.0, 2.0, 3.0])\n",
        "except Exception as e:\n",
        "  print(f\"{type(e).__name__}: {e}\")"
      ],
      "metadata": {
        "colab": {
          "base_uri": "https://localhost:8080/"
        },
        "id": "KHXP2HExkCSV",
        "outputId": "6e1a4c33-f7e6-4d51-cc6c-25aa92ae7281"
      },
      "execution_count": 32,
      "outputs": [
        {
          "output_type": "stream",
          "name": "stdout",
          "text": [
            "ValueError: Cannot assign value to variable ' Variable:0': Shape mismatch.The variable shape (2,), and the assigned value shape (3,) are incompatible.\n"
          ]
        }
      ]
    },
    {
      "cell_type": "code",
      "source": [
        "a = tf.Variable([2.0, 3.0])\n",
        "# Create b based on the value of a\n",
        "b = tf.Variable(a)\n",
        "a.assign([5, 6])\n",
        "\n",
        "# a and b are different\n",
        "print(a.numpy())\n",
        "print(b.numpy())\n",
        "\n",
        "# There are other versions of assign\n",
        "print(a.assign_add([2,3]).numpy())  # [7. 9.]\n",
        "print(a.assign_sub([7,9]).numpy())  # [0. 0.]"
      ],
      "metadata": {
        "colab": {
          "base_uri": "https://localhost:8080/"
        },
        "id": "kVeAYfchkRD9",
        "outputId": "cc62184f-c1c8-443a-8637-852e298f69b5"
      },
      "execution_count": 33,
      "outputs": [
        {
          "output_type": "stream",
          "name": "stdout",
          "text": [
            "[5. 6.]\n",
            "[2. 3.]\n",
            "[7. 9.]\n",
            "[0. 0.]\n"
          ]
        }
      ]
    },
    {
      "cell_type": "markdown",
      "source": [
        "# Lifecycles, naming, and watching\n",
        "In Python-based TensorFlow, tf.Variable instance have the same lifecycle as other Python objects. When there are no references to a variable it is automatically deallocated.\n",
        "\n",
        "Variables can also be named which can help you track and debug them. You can give two variables the same name."
      ],
      "metadata": {
        "id": "hRKwW7Xgkk7w"
      }
    },
    {
      "cell_type": "code",
      "source": [
        "a = tf.Variable(my_tensor, name=\"Mark\")\n",
        "b = tf.Variable(my_tensor + 1, name=\"Mark\")\n",
        "\n",
        "# These are elementwise-unequal, despite having the same name\n",
        "print(a == b)"
      ],
      "metadata": {
        "colab": {
          "base_uri": "https://localhost:8080/"
        },
        "id": "64HxEWzSna8s",
        "outputId": "d059c3dd-3f30-45b4-c1b2-003426b36442"
      },
      "execution_count": 34,
      "outputs": [
        {
          "output_type": "stream",
          "name": "stdout",
          "text": [
            "tf.Tensor(\n",
            "[[False False]\n",
            " [False False]], shape=(2, 2), dtype=bool)\n"
          ]
        }
      ]
    },
    {
      "cell_type": "code",
      "source": [
        "step_counter = tf.Variable(1, trainable=False)"
      ],
      "metadata": {
        "id": "xn7Rz215nxtk"
      },
      "execution_count": 35,
      "outputs": []
    },
    {
      "cell_type": "markdown",
      "source": [
        "# lacing variables and tensors\n",
        "For better performance, TensorFlow will attempt to place tensors and variables on the fastest device compatible with its dtype. This means most variables are placed on a GPU if one is available.\n",
        "\n",
        "However, you can override this. In this snippet, place a float tensor and a variable on the CPU, even if a GPU is available. By turning on device placement logging (see Setup), you can see where the variable is placed."
      ],
      "metadata": {
        "id": "fuP_lK6Uoj60"
      }
    },
    {
      "cell_type": "code",
      "source": [
        "with tf.device('CPU:0'):\n",
        "\n",
        "  # Create some tensors\n",
        "  a = tf.Variable([[1.0, 2.0, 3.0], [4.0, 5.0, 6.0]])\n",
        "  b = tf.constant([[1.0, 2.0], [3.0, 4.0], [5.0, 6.0]])\n",
        "  c = tf.matmul(a, b)\n",
        "\n",
        "print(c)"
      ],
      "metadata": {
        "colab": {
          "base_uri": "https://localhost:8080/"
        },
        "id": "7E512N1sn6DS",
        "outputId": "bfee6855-f725-46fa-cc53-d43d3fd1ae19"
      },
      "execution_count": 36,
      "outputs": [
        {
          "output_type": "stream",
          "name": "stdout",
          "text": [
            "tf.Tensor(\n",
            "[[22. 28.]\n",
            " [49. 64.]], shape=(2, 2), dtype=float32)\n"
          ]
        }
      ]
    },
    {
      "cell_type": "code",
      "source": [
        "with tf.device('CPU:0'):\n",
        "  a = tf.Variable([[1.0, 2.0, 3.0], [4.0, 5.0, 6.0]])\n",
        "  b = tf.Variable([[1.0, 2.0, 3.0]])\n",
        "\n",
        "with tf.device('GPU:0'):\n",
        "  k = a * b\n",
        "\n",
        "print(k)"
      ],
      "metadata": {
        "colab": {
          "base_uri": "https://localhost:8080/"
        },
        "id": "1J0c0YkkozjT",
        "outputId": "e9ba5e75-534d-4117-d7d8-57e76c694245"
      },
      "execution_count": 37,
      "outputs": [
        {
          "output_type": "stream",
          "name": "stdout",
          "text": [
            "tf.Tensor(\n",
            "[[ 1.  4.  9.]\n",
            " [ 4. 10. 18.]], shape=(2, 3), dtype=float32)\n"
          ]
        }
      ]
    },
    {
      "cell_type": "markdown",
      "source": [
        "# Automatic Differentiation and Gradients\n",
        "Automatic differentiation is useful for implementing machine learning algorithms such as backpropagation for training neural networks.\n",
        "\n",
        "In this guide, you will explore ways to compute gradients with TensorFlow, especially in eager execution."
      ],
      "metadata": {
        "id": "chVUd_NMq3m1"
      }
    },
    {
      "cell_type": "code",
      "source": [
        "import numpy as np\n",
        "import matplotlib.pyplot as plt\n",
        "\n",
        "import tensorflow as tf"
      ],
      "metadata": {
        "id": "j4d7iF6-q-XB"
      },
      "execution_count": 38,
      "outputs": []
    },
    {
      "cell_type": "markdown",
      "source": [
        "# Computing gradients\n",
        "To differentiate automatically, TensorFlow needs to remember what operations happen in what order during the forward pass. Then, during the backward pass, TensorFlow traverses this list of operations in reverse order to compute gradients."
      ],
      "metadata": {
        "id": "5sOlO8KNrhiH"
      }
    },
    {
      "cell_type": "markdown",
      "source": [
        "# Gradient tapes\n",
        "TensorFlow provides the tf.GradientTape API for automatic differentiation; that is, computing the gradient of a computation with respect to some inputs, usually tf.Variables. TensorFlow \"records\" relevant operations executed inside the context of a tf.GradientTape onto a \"tape\". TensorFlow then uses that tape to compute the gradients of a \"recorded\" computation using reverse mode differentiation."
      ],
      "metadata": {
        "id": "antes-2KrvHu"
      }
    },
    {
      "cell_type": "code",
      "source": [
        "x = tf.Variable(3.0)\n",
        "\n",
        "with tf.GradientTape() as tape:\n",
        "  y = x**2"
      ],
      "metadata": {
        "id": "lkqGBYPZrcoI"
      },
      "execution_count": 39,
      "outputs": []
    },
    {
      "cell_type": "code",
      "source": [
        "# dy = 2x * dx\n",
        "dy_dx = tape.gradient(y, x)\n",
        "dy_dx.numpy()"
      ],
      "metadata": {
        "colab": {
          "base_uri": "https://localhost:8080/"
        },
        "id": "Vq4Nyi7YsEcV",
        "outputId": "e067074e-793b-4d6b-c3fa-a52507edffd1"
      },
      "execution_count": 40,
      "outputs": [
        {
          "output_type": "execute_result",
          "data": {
            "text/plain": [
              "6.0"
            ]
          },
          "metadata": {},
          "execution_count": 40
        }
      ]
    },
    {
      "cell_type": "code",
      "source": [
        "w = tf.Variable(tf.random.normal((3, 2)), name='w')\n",
        "b = tf.Variable(tf.zeros(2, dtype=tf.float32), name='b')\n",
        "x = [[1., 2., 3.]]\n",
        "\n",
        "with tf.GradientTape(persistent=True) as tape:\n",
        "  y = x @ w + b\n",
        "  loss = tf.reduce_mean(y**2)\n",
        "\n",
        "[dl_dw, dl_db] = tape.gradient(loss, [w, b])\n",
        "print(dl_dw)\n",
        "print(dl_db)\n",
        "del tape"
      ],
      "metadata": {
        "colab": {
          "base_uri": "https://localhost:8080/"
        },
        "id": "d8PuNjHVsVmo",
        "outputId": "b94ba2c2-6cb7-490b-da23-9a7b79ff6f80"
      },
      "execution_count": 41,
      "outputs": [
        {
          "output_type": "stream",
          "name": "stdout",
          "text": [
            "tf.Tensor(\n",
            "[[-1.5615838 -2.4960139]\n",
            " [-3.1231675 -4.9920278]\n",
            " [-4.6847515 -7.488042 ]], shape=(3, 2), dtype=float32)\n",
            "tf.Tensor([-1.5615838 -2.4960139], shape=(2,), dtype=float32)\n"
          ]
        }
      ]
    },
    {
      "cell_type": "markdown",
      "source": [
        "# Gradients with respect to a model\n",
        "It's common to collect tf.Variables into a tf.Module or one of its subclasses (layers.Layer, keras.Model) for checkpointing and exporting.\n",
        "\n",
        "In most cases, you will want to calculate gradients with respect to a model's trainable variables. Since all subclasses of tf.Module aggregate their variables in the Module.trainable_variables property, you can calculate these gradients in a few lines of code:"
      ],
      "metadata": {
        "id": "kvUC4cS-MOJ4"
      }
    },
    {
      "cell_type": "code",
      "source": [
        "layer = tf.keras.layers.Dense(2, activation='relu')\n",
        "x = tf.constant([[1., 2., 3.]])\n",
        "\n",
        "with tf.GradientTape() as tape:\n",
        "  y = layer(x)\n",
        "  loss = tf.reduce_mean(y**2)\n",
        "\n",
        "\n",
        "grad = tape.gradient(loss, layer.trainable_variables)\n",
        "print(grad)"
      ],
      "metadata": {
        "colab": {
          "base_uri": "https://localhost:8080/"
        },
        "id": "A71Ok0a9MJq_",
        "outputId": "9ae2c2f0-ed06-4745-e35d-e39710020295"
      },
      "execution_count": 42,
      "outputs": [
        {
          "output_type": "stream",
          "name": "stdout",
          "text": [
            "[<tf.Tensor: shape=(3, 2), dtype=float32, numpy=\n",
            "array([[0., 0.],\n",
            "       [0., 0.],\n",
            "       [0., 0.]], dtype=float32)>, <tf.Tensor: shape=(2,), dtype=float32, numpy=array([0., 0.], dtype=float32)>]\n"
          ]
        }
      ]
    },
    {
      "cell_type": "markdown",
      "source": [
        "# Graph\n",
        "TensorFlow allows you to make simple changes to your code to get graphs, how graphs are stored and represented, and how you can use them to accelerate your models.\n",
        "<br>\n",
        "raph execution enables portability outside Python and tends to offer better performance. Graph execution means that tensor computations are executed as a TensorFlow graph, sometimes referred to as a tf.Graph or simply a \"graph.\"\n",
        "<br>\n",
        "***Graphs are data structures that contain a set of tf.Operation objects, which represent units of computation; and tf.Tensor objects, which represent the units of data that flow between operations. They are defined in a tf.Graph context. Since these graphs are data structures, they can be saved, run, and restored all without the original Python code.***"
      ],
      "metadata": {
        "id": "VORGGjO7y_mt"
      }
    },
    {
      "cell_type": "code",
      "source": [
        "\n",
        "import timeit\n",
        "from datetime import datetime"
      ],
      "metadata": {
        "id": "h379WsI1g6C6"
      },
      "execution_count": 43,
      "outputs": []
    },
    {
      "cell_type": "code",
      "source": [
        "# Define a Python function.\n",
        "def a_regular_function(x, y, b):\n",
        "  x = tf.matmul(x, y)\n",
        "  x = x + b\n",
        "  return x\n",
        "\n",
        "# The Python type of `a_function_that_uses_a_graph` will now be a\n",
        "# `PolymorphicFunction`.\n",
        "a_function_that_uses_a_graph = tf.function(a_regular_function)\n",
        "\n",
        "# Make some tensors.\n",
        "x1 = tf.constant([[1.0, 2.0]])\n",
        "y1 = tf.constant([[2.0], [3.0]])\n",
        "b1 = tf.constant(4.0)\n",
        "\n",
        "orig_value = a_regular_function(x1, y1, b1).numpy()\n",
        "# Call a `tf.function` like a Python function.\n",
        "tf_function_value = a_function_that_uses_a_graph(x1, y1, b1).numpy()\n",
        "assert(orig_value == tf_function_value)"
      ],
      "metadata": {
        "id": "8Tujz6GJzwn6"
      },
      "execution_count": 44,
      "outputs": []
    },
    {
      "cell_type": "code",
      "source": [
        "def inner_function(x, y, b):\n",
        "  x = tf.matmul(x, y)\n",
        "  x = x + b\n",
        "  return x\n",
        "\n",
        "# Using the `tf.function` decorator makes `outer_function` into a\n",
        "# `PolymorphicFunction`.\n",
        "@tf.function\n",
        "def outer_function(x):\n",
        "  y = tf.constant([[2.0], [3.0]])\n",
        "  b = tf.constant(4.0)\n",
        "\n",
        "  return inner_function(x, y, b)\n",
        "\n",
        "# Note that the callable will create a graph that\n",
        "# includes `inner_function` as well as `outer_function`.\n",
        "outer_function(tf.constant([[1.0, 2.0]])).numpy()"
      ],
      "metadata": {
        "colab": {
          "base_uri": "https://localhost:8080/"
        },
        "id": "e6dWJTdg0CT1",
        "outputId": "f3aa212d-c7af-4794-d550-827972e0b11d"
      },
      "execution_count": 45,
      "outputs": [
        {
          "output_type": "execute_result",
          "data": {
            "text/plain": [
              "array([[12.]], dtype=float32)"
            ]
          },
          "metadata": {},
          "execution_count": 45
        }
      ]
    },
    {
      "cell_type": "code",
      "source": [
        "def simple_relu(x):\n",
        "  if tf.greater(x, 0):\n",
        "    return x\n",
        "  else:\n",
        "    return 0\n",
        "\n",
        "# Using `tf.function` makes `tf_simple_relu` a `PolymorphicFunction` that wraps\n",
        "# `simple_relu`.\n",
        "tf_simple_relu = tf.function(simple_relu)\n",
        "\n",
        "print(\"First branch, with graph:\", tf_simple_relu(tf.constant(1)).numpy())\n",
        "print(\"Second branch, with graph:\", tf_simple_relu(tf.constant(-1)).numpy())"
      ],
      "metadata": {
        "colab": {
          "base_uri": "https://localhost:8080/"
        },
        "id": "ZN8zO_gI0GzT",
        "outputId": "198f7b7e-c243-49b0-9749-cacf42821d83"
      },
      "execution_count": 46,
      "outputs": [
        {
          "output_type": "stream",
          "name": "stdout",
          "text": [
            "First branch, with graph: 1\n",
            "Second branch, with graph: 0\n"
          ]
        }
      ]
    },
    {
      "cell_type": "code",
      "source": [],
      "metadata": {
        "id": "jMygIJfv07bC"
      },
      "execution_count": null,
      "outputs": []
    },
    {
      "cell_type": "markdown",
      "source": [
        "#TENSORFLOW MODULE\n",
        "Most models are made of layers. Layers are functions with a known mathematical structure that can be reused and have trainable variables. In TensorFlow, most high-level implementations of layers and models, such as Keras or Sonnet, are built on the same foundational class: tf.Module."
      ],
      "metadata": {
        "id": "fQpBRw26nhQl"
      }
    },
    {
      "cell_type": "code",
      "source": [
        "class SimpleModule(tf.Module):\n",
        "  def __init__(self, name=None):\n",
        "    super().__init__(name=name)\n",
        "    self.a_variable = tf.Variable(5.0, name=\"train_me\")\n",
        "    self.non_trainable_variable = tf.Variable(5.0, trainable=False, name=\"do_not_train_me\")\n",
        "  def __call__(self, x):\n",
        "    return self.a_variable * x + self.non_trainable_variable\n",
        "\n",
        "simple_module = SimpleModule(name=\"simple\")\n",
        "\n",
        "simple_module(tf.constant(5.0))"
      ],
      "metadata": {
        "colab": {
          "base_uri": "https://localhost:8080/"
        },
        "id": "EhvgLZB6nxVj",
        "outputId": "69fefced-5699-4325-e093-dd57328a6bf2"
      },
      "execution_count": 47,
      "outputs": [
        {
          "output_type": "execute_result",
          "data": {
            "text/plain": [
              "<tf.Tensor: shape=(), dtype=float32, numpy=30.0>"
            ]
          },
          "metadata": {},
          "execution_count": 47
        }
      ]
    },
    {
      "cell_type": "code",
      "source": [
        "# All trainable variables\n",
        "print(\"trainable variables:\", simple_module.trainable_variables)\n",
        "# Every variable\n",
        "print(\"all variables:\", simple_module.variables)"
      ],
      "metadata": {
        "colab": {
          "base_uri": "https://localhost:8080/"
        },
        "id": "qgD83gPspK5d",
        "outputId": "f0616827-5a9a-4927-947a-3f3b1f86328a"
      },
      "execution_count": 48,
      "outputs": [
        {
          "output_type": "stream",
          "name": "stdout",
          "text": [
            "trainable variables: (<tf.Variable 'train_me:0' shape=() dtype=float32, numpy=5.0>,)\n",
            "all variables: (<tf.Variable 'train_me:0' shape=() dtype=float32, numpy=5.0>, <tf.Variable 'do_not_train_me:0' shape=() dtype=float32, numpy=5.0>)\n"
          ]
        }
      ]
    }
  ]
}